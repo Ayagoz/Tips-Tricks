{
 "cells": [
  {
   "cell_type": "code",
   "execution_count": null,
   "metadata": {},
   "outputs": [],
   "source": [
    "! pip install category-encoders"
   ]
  },
  {
   "cell_type": "code",
   "execution_count": null,
   "metadata": {},
   "outputs": [],
   "source": [
    "import warnings\n",
    "warnings.filterwarnings('ignore')"
   ]
  },
  {
   "cell_type": "code",
   "execution_count": null,
   "metadata": {},
   "outputs": [],
   "source": [
    "import numpy as np \n",
    "\n",
    "from functools import partial\n",
    "\n",
    "from sklearn.model_selection import train_test_split\n",
    "from sklearn.metrics import accuracy_score\n",
    "from sklearn.preprocessing import StandardScaler\n",
    "\n",
    "from sklearn.svm import SVC\n",
    "from sklearn.linear_model import LogisticRegression\n",
    "from sklearn.ensemble import RandomForestClassifier\n",
    "from sklearn.naive_bayes import GaussianNB, BernoulliNB\n",
    "\n",
    "from dataset import Dataset\n",
    "from utils import Compose, ScalerTransform\n",
    "\n",
    "import  matplotlib.pyplot as plt\n",
    "%matplotlib inline"
   ]
  },
  {
   "cell_type": "markdown",
   "metadata": {},
   "source": [
    "Категориальные данные --  качественно характеризующие исследуемый процесс или объект, не имеющие количественного выражения.\n",
    "\n",
    "Категориальный признак имеет N категорий."
   ]
  },
  {
   "cell_type": "markdown",
   "metadata": {},
   "source": [
    "Способы представления: \n",
    "    1. label-encoding:\n",
    "        Метод label-encoding кодирует N признаков в числа от 0 до N-1.\n",
    "        Пример: N категорий = {'march', 'feb', 'april'}\n",
    "        тогда признак:\n",
    "                'march' -> 0\n",
    "                'april' -> 2\n",
    "                'april' -> 2\n",
    "                'feb'   -> 1\n",
    "        Какой явный недостаток у такого метода?\n",
    "        Ответ: ...\n",
    "    2. one-hot-encoding:\n",
    "        Метод one-hot-encoding кодирует признаки в вектора длины N, где 1 стоит на месте соответствующего значения.\n",
    "        Пример: N категорий = {'march', 'feb', 'april'}\n",
    "        тогда признак:\n",
    "            'march' -> $[1, 0, 0]$\n",
    "            'april' -> $[0, 0, 1]$\n",
    "            'april' -> $[0, 0, 1]$\n",
    "            'feb'   -> $[0, 1, 0]$\n",
    "    3. binary-encoding:\n",
    "        Метод binary-encoding сначала кодирует признаки как label-encoding, дальше преобразует числа от 0 до N-1 \n",
    "        в двоичный код, далее двоичный код преобразуется в вектор.\n",
    "        от 0 до N-1 = 7, 3 -> '011' -> $[0, 1, 1]$    \n",
    "        Чем метод one-hot-encoding хуже чем binary-encoding?\n",
    "        Ответ: ... \n",
    "    4. backward-difference-encoding:\n",
    "        Признак состоящий из N категорий, или уровней, обычно входит в регрессию как последовательность фиктивных \n",
    "        переменных N-1.\n",
    "        Почитать про это можно по ссылке ниже:\n",
    "[constrast coding](https://stats.idre.ucla.edu/r/library/r-library-contrast-coding-systems-for-categorical-variables/#backward)        \n",
    "И еще существует какое-то количество других методов, но пока ограничимся этими."
   ]
  },
  {
   "cell_type": "markdown",
   "metadata": {},
   "source": [
    "Задание: Предсказать получает ли за год больше 50К по данным `adult.csv`. \n",
    "Добиться уровня качества (accuracy) >= 0.851.\n",
    "\n",
    "Некоторые трюки:\n",
    "    1. Есть несколько способ преобразовать категориальные признаки, попробуйте разные. \n",
    "    2. Иногда работает преобразовать некоторые признаки нелиненым способом, например взять логарифм\n",
    "    или завести квадраты переменных. (это называется feature engineering)\n",
    "    3. Отбор переменных. В случае когда есть много скоррелированных признаков -- это может ухудшать обучения ака\n",
    "    проклятие размерности. (это называется feature selection)\n",
    "    4. У модели есть параметры, которые можно менять. Это может очень влиять на качество. "
   ]
  },
  {
   "cell_type": "markdown",
   "metadata": {},
   "source": [
    "Описание переменных:\n",
    "\n",
    "* age: continuous.\n",
    "* workclass: Private, Self-emp-not-inc, Self-emp-inc, Federal-gov, Local-gov, State-gov, Without-pay, Never-worked.\n",
    "* education: Bachelors, Some-college, 11th, HS-grad, Prof-school, Assoc-acdm, Assoc-voc, 9th, 7th-8th, 12th, Masters, \n",
    "    1st-4th, 10th, Doctorate, 5th-6th, Preschool.\n",
    "* education-num: continuous.\n",
    "* marital-status: Married-civ-spouse, Divorced, Never-married, Separated, Widowed, Married-spouse-absent, \n",
    "    Married-AF-spouse.\n",
    "* occupation: Tech-support, Craft-repair, Other-service, Sales, Exec-managerial, Prof-specialty, Handlers-cleaners, \n",
    "    Machine-op-inspct, Adm-clerical, Farming-fishing, Transport-moving, Priv-house-serv, Protective-serv, Armed-Forces.\n",
    "* relationship: Wife, Own-child, Husband, Not-in-family, Other-relative, Unmarried.\n",
    "* race: White, Asian-Pac-Islander, Amer-Indian-Eskimo, Other, Black.sex: Female, Male.\n",
    "* capital-gain: continuous.\n",
    "* capital-loss: continuous.\n",
    "* hours-per-week: continuous.\n",
    "* native-country: United-States, Cambodia, England, Puerto-Rico, Canada, Germany, Outlying-US(Guam-USVI-etc), India, \n",
    "    Japan, Greece, South, China, Cuba, Iran, Honduras, Philippines, Italy, Poland, Jamaica, Vietnam, Mexico, \n",
    "    Portugal, Ireland, France, Dominican-Republic, Laos, Ecuador, Taiwan, Haiti, Columbia, Hungary, Guatemala, \n",
    "    Nicaragua, Scotland, Thailand, Yugoslavia, El-Salvador, Trinadad&Tobago, Peru, Hong, Holand-Netherlands."
   ]
  },
  {
   "cell_type": "code",
   "execution_count": null,
   "metadata": {},
   "outputs": [],
   "source": [
    "# С помощью трансформов вы можете задавать преобразования датасета для feature engineering\n",
    "\n",
    "transforms = Compose([ScalerTransform(),\n",
    "                      \n",
    "                     ])\n",
    "# Параметр cat_preproc_type - отвечает за разные способы преобразования категориальных признаков\n",
    "dataset = Dataset(\"~/Tips-Tricks/lesson_1/adult.csv\", target='salary',\n",
    "                  cat_preproc_type='backward', drop=None,\n",
    "                  transforms=transforms)\n",
    "\n",
    "X, y = dataset.get_data()\n",
    "\n",
    "X_train, X_test, y_train, y_test = train_test_split(X, y, test_size=0.1, random_state=0)"
   ]
  },
  {
   "cell_type": "code",
   "execution_count": null,
   "metadata": {},
   "outputs": [],
   "source": [
    "X_train.shape"
   ]
  },
  {
   "cell_type": "code",
   "execution_count": null,
   "metadata": {},
   "outputs": [],
   "source": [
    "def get_accuracy(X_train, y_train, X_test, y_test, params, algo=LogisticRegression):\n",
    "    model = algo(**params)\n",
    "    # here tour code to fit model and measure predictions quality\n",
    "    return acc"
   ]
  },
  {
   "cell_type": "markdown",
   "metadata": {},
   "source": [
    "### Ваш бейзлайн"
   ]
  },
  {
   "cell_type": "code",
   "execution_count": null,
   "metadata": {},
   "outputs": [],
   "source": [
    "get_accuracy(X_train, y_train, X_test, y_test, params={}, algo=BernoulliNB)"
   ]
  },
  {
   "cell_type": "code",
   "execution_count": null,
   "metadata": {},
   "outputs": [],
   "source": [
    "def get_features(X, idx):\n",
    "    return X[np.ix_(np.arange(len(X)), idx)].copy()"
   ]
  },
  {
   "cell_type": "code",
   "execution_count": null,
   "metadata": {},
   "outputs": [],
   "source": [
    "def feature_selection(X_train, y_train, X_test, y_test, score_func, eps=1e-3):\n",
    "    _, n = X_train.shape\n",
    "    idx = []\n",
    "    acc = [0]\n",
    "    all_idx = np.arange(n)\n",
    "    while len(idx) < n:\n",
    "        best_acc = 0\n",
    "        best_idx = None\n",
    "        for i in all_idx:\n",
    "            #here your code to find best params\n",
    "            \n",
    "        if best_acc - acc[-1] > eps:\n",
    "            idx.append(best_idx)\n",
    "            acc.append(best_acc)\n",
    "            print(f'New acc {acc[-1]}')\n",
    "        else:\n",
    "            break\n",
    "\n",
    "        \n",
    "    return idx, acc"
   ]
  },
  {
   "cell_type": "code",
   "execution_count": null,
   "metadata": {
    "scrolled": true
   },
   "outputs": [],
   "source": [
    "params = {}\n",
    "score_func = partial(get_accuracy, params=params, algo=BernoulliNB)\n",
    "\n",
    "idx, acc = feature_selection(X_train, y_train, X_test, y_test, score_func, eps=1e-12)"
   ]
  },
  {
   "cell_type": "code",
   "execution_count": null,
   "metadata": {},
   "outputs": [],
   "source": [
    "plt.plot(np.arange(len(idx)), acc[1:], 'go--', markersize=12, label='accuracy');\n",
    "plt.xticks(ticks=np.arange(len(idx)), labels=idx);\n",
    "plt.xlabel('Feature index');\n",
    "plt.ylabel('Accuracy score');"
   ]
  },
  {
   "cell_type": "code",
   "execution_count": null,
   "metadata": {},
   "outputs": [],
   "source": []
  },
  {
   "cell_type": "code",
   "execution_count": null,
   "metadata": {},
   "outputs": [],
   "source": []
  }
 ],
 "metadata": {
  "kernelspec": {
   "display_name": "Python 3",
   "language": "python",
   "name": "python3"
  },
  "language_info": {
   "codemirror_mode": {
    "name": "ipython",
    "version": 3
   },
   "file_extension": ".py",
   "mimetype": "text/x-python",
   "name": "python",
   "nbconvert_exporter": "python",
   "pygments_lexer": "ipython3",
   "version": "3.7.3"
  }
 },
 "nbformat": 4,
 "nbformat_minor": 2
}
