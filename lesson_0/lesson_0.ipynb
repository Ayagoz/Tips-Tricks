{
 "cells": [
  {
   "cell_type": "code",
   "execution_count": null,
   "metadata": {},
   "outputs": [],
   "source": [
    "import numpy as np\n",
    "import pandas as pd\n",
    "import matplotlib.pyplot as plt\n",
    "\n",
    "#import function which you need\n",
    "\n",
    "%matplotlib inline"
   ]
  },
  {
   "cell_type": "code",
   "execution_count": null,
   "metadata": {},
   "outputs": [],
   "source": [
    "data = pd.read_csv(\"/home/ayagoz/Tips-Tricks/lesson_0/train.csv\")"
   ]
  },
  {
   "cell_type": "markdown",
   "metadata": {},
   "source": [
    "# Preprocessing data\n",
    "Data consists of next variables:\n",
    "   1. X - x-axis spatial coordinate within the Montesinho park map: 1 to 9\n",
    "   2. Y - y-axis spatial coordinate within the Montesinho park map: 2 to 9\n",
    "   3. month - month of the year: \"jan\" to \"dec\" \n",
    "   4. day - day of the week: \"mon\" to \"sun\"\n",
    "   5. FFMC - FFMC index from the FWI system: 18.7 to 96.20\n",
    "   6. DMC - DMC index from the FWI system: 1.1 to 291.3 \n",
    "   7. DC - DC index from the FWI system: 7.9 to 860.6 \n",
    "   8. ISI - ISI index from the FWI system: 0.0 to 56.10\n",
    "   9. temp - temperature in Celsius degrees: 2.2 to 33.30\n",
    "   10. RH - relative humidity in %: 15.0 to 100\n",
    "   11. wind - wind speed in km/h: 0.40 to 9.40 \n",
    "   12. rain - outside rain in mm/m2 : 0.0 to 6.4 \n",
    "   13. area - the burned area of the forest (in ha): 0.00 to 1090.84 (this output variable is very skewed towards 0.0, thus it may make sense to model with the logarithm transform). \n",
    "\n",
    "Your target to predict area."
   ]
  },
  {
   "cell_type": "code",
   "execution_count": null,
   "metadata": {},
   "outputs": [],
   "source": [
    "def preprocessing_data(data, **params):\n",
    "    X = func(data)\n",
    "    # ...\n",
    "    return X"
   ]
  },
  {
   "cell_type": "code",
   "execution_count": null,
   "metadata": {},
   "outputs": [],
   "source": [
    "preproc_data = preprocessing_data(data)"
   ]
  },
  {
   "cell_type": "code",
   "execution_count": null,
   "metadata": {},
   "outputs": [],
   "source": [
    "class MyGorgeousLinearRegression:\n",
    "    def __init__(self, params):\n",
    "        for k, v in params.items():\n",
    "            setattr(self, str(k), v)\n",
    "    def fit(self, X, y):\n",
    "        self.beta = #some function\n",
    "        self.intercept = #somesomesome\n",
    "    def predict(self, X):\n",
    "        yhat = #\n",
    "        return yhat\n",
    "    def get_score(self, X, y):\n",
    "        yhat = self.predict(X)\n",
    "        return score(y, yhat) # define score function"
   ]
  },
  {
   "cell_type": "code",
   "execution_count": null,
   "metadata": {},
   "outputs": [],
   "source": [
    "#fit your \n",
    "X, y = preproc_data\n",
    "params = {}\n",
    "mylr = MyGorgeousLinearRegression(params)\n",
    "mylr.fit(X, y)\n",
    "beta, c = mylr.beta, mylr.intercept"
   ]
  },
  {
   "cell_type": "code",
   "execution_count": null,
   "metadata": {},
   "outputs": [],
   "source": [
    "def fit_sklearn(X, y, params):\n",
    "    from sklearn.linear_model import LinearRegression\n",
    "    lr = LinearRegression(**params)\n",
    "    lr.fit(X, y)\n",
    "    return lr.coef_\n",
    "\n",
    "def compare_with_sklearn(beta, c, X, y, params):\n",
    "    beta_sk, c_sk = fit_sklearn(X, y, params)\n",
    "    print(f\"Norm of difference of your betas and sklearn: {np.linalg.norm(beta - beta_sk)}, abs diff {abs(c-c_sk)}\")"
   ]
  },
  {
   "cell_type": "code",
   "execution_count": null,
   "metadata": {},
   "outputs": [],
   "source": [
    "params_sk = {\n",
    "            \"fit_intercept\":True,\n",
    "            \"normalize\":True\n",
    "            }"
   ]
  },
  {
   "cell_type": "code",
   "execution_count": null,
   "metadata": {},
   "outputs": [],
   "source": [
    "compare_with_sklearn(beta, c, X, y, params_sk)"
   ]
  },
  {
   "cell_type": "code",
   "execution_count": null,
   "metadata": {},
   "outputs": [],
   "source": []
  },
  {
   "cell_type": "markdown",
   "metadata": {},
   "source": [
    "[paper](http://www3.dsi.uminho.pt/pcortez/fires.pdf)"
   ]
  }
 ],
 "metadata": {
  "kernelspec": {
   "display_name": "Python 3",
   "language": "python",
   "name": "python3"
  },
  "language_info": {
   "codemirror_mode": {
    "name": "ipython",
    "version": 3
   },
   "file_extension": ".py",
   "mimetype": "text/x-python",
   "name": "python",
   "nbconvert_exporter": "python",
   "pygments_lexer": "ipython3",
   "version": "3.7.3"
  }
 },
 "nbformat": 4,
 "nbformat_minor": 2
}
