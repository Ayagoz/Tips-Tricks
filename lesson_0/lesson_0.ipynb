{
 "cells": [
  {
   "cell_type": "code",
   "execution_count": 1,
   "metadata": {},
   "outputs": [
    {
     "name": "stderr",
     "output_type": "stream",
     "text": [
      "/home/ayagoz/miniconda3/lib/python3.7/importlib/_bootstrap.py:219: RuntimeWarning: numpy.ufunc size changed, may indicate binary incompatibility. Expected 192 from C header, got 216 from PyObject\n",
      "  return f(*args, **kwds)\n",
      "/home/ayagoz/miniconda3/lib/python3.7/importlib/_bootstrap.py:219: RuntimeWarning: numpy.ufunc size changed, may indicate binary incompatibility. Expected 192 from C header, got 216 from PyObject\n",
      "  return f(*args, **kwds)\n"
     ]
    }
   ],
   "source": [
    "import numpy as np\n",
    "import pandas as pd\n",
    "import matplotlib.pyplot as plt\n",
    "\n",
    "#import function which you need\n",
    "from sklearn.preprocessing import StandardScaler\n",
    "\n",
    "%matplotlib inline"
   ]
  },
  {
   "cell_type": "code",
   "execution_count": 2,
   "metadata": {},
   "outputs": [],
   "source": [
    "data = pd.read_csv(\"~/Tips-Tricks/lesson_0/train.csv\")"
   ]
  },
  {
   "cell_type": "markdown",
   "metadata": {},
   "source": [
    "# Preprocessing data\n",
    "Задание: \n",
    "Подготовить данные и реализовать линейную модель. Обучить её и \n",
    "сравнить с реализацией из sklearn. Сравнить score на тестовой выборке. \n",
    "\n",
    "\n",
    "\n",
    "Data consists of next variables:\n",
    "   1. X - x-axis spatial coordinate within the Montesinho park map: 1 to 9\n",
    "   2. Y - y-axis spatial coordinate within the Montesinho park map: 2 to 9\n",
    "   3. month - month of the year: \"jan\" to \"dec\" \n",
    "   4. day - day of the week: \"mon\" to \"sun\"\n",
    "   5. FFMC - FFMC index from the FWI system: 18.7 to 96.20\n",
    "   6. DMC - DMC index from the FWI system: 1.1 to 291.3 \n",
    "   7. DC - DC index from the FWI system: 7.9 to 860.6 \n",
    "   8. ISI - ISI index from the FWI system: 0.0 to 56.10\n",
    "   9. temp - temperature in Celsius degrees: 2.2 to 33.30\n",
    "   10. RH - relative humidity in %: 15.0 to 100\n",
    "   11. wind - wind speed in km/h: 0.40 to 9.40 \n",
    "   12. rain - outside rain in mm/m2 : 0.0 to 6.4 \n",
    "   13. area - the burned area of the forest (in ha): 0.00 to 1090.84 (this output variable is very skewed towards 0.0, thus it may make sense to model with the logarithm transform). \n",
    "\n",
    "Your target to predict area."
   ]
  },
  {
   "cell_type": "code",
   "execution_count": 14,
   "metadata": {},
   "outputs": [],
   "source": [
    "def preprocessing_data(data, params):\n",
    "    X = pd.get_dummies(data, columns=params['cols'])\n",
    "    X = StandardScaler().fit_transform(X)\n",
    "    return X"
   ]
  },
  {
   "cell_type": "code",
   "execution_count": 34,
   "metadata": {},
   "outputs": [],
   "source": [
    "params = {\"cols\": ['month', 'day']}\n",
    "X = preprocessing_data(data[['X', 'Y', 'month', 'day', 'FFMC', 'DMC', 'DC',\n",
    "       'ISI', 'temp', 'RH', 'wind', 'rain']], params)\n",
    "y = data['area']"
   ]
  },
  {
   "cell_type": "code",
   "execution_count": 35,
   "metadata": {},
   "outputs": [],
   "source": [
    "class MyGorgeousLinearRegression:\n",
    "    def __init__(self, params):\n",
    "        for k, v in params.items():\n",
    "            setattr(self, str(k), v)\n",
    "    def fit(self, X, y):\n",
    "#         self.beta = #some function\n",
    "#         self.intercept = #somesomesome\n",
    "        pass\n",
    "    def predict(self, X):\n",
    "        pass\n",
    "#         yhat = \n",
    "#         return yhat\n",
    "    def get_score(self, X, y):\n",
    "        pass\n",
    "#         yhat = self.predict(X)\n",
    "#         return score(y, yhat) # define score function"
   ]
  },
  {
   "cell_type": "code",
   "execution_count": null,
   "metadata": {},
   "outputs": [],
   "source": [
    "#fit your \n",
    "X, y = preproc_data[preproc_data.colum]\n",
    "params = {}\n",
    "mylr = MyGorgeousLinearRegression(params)\n",
    "mylr.fit(X, y)\n",
    "beta, c = mylr.beta, mylr.intercept"
   ]
  },
  {
   "cell_type": "code",
   "execution_count": 63,
   "metadata": {},
   "outputs": [],
   "source": [
    "def fit_sklearn(X, y, params):\n",
    "    from sklearn.linear_model import LinearRegression\n",
    "    lr = LinearRegression(**params)\n",
    "    lr.fit(X, y)\n",
    "    return lr.coef_, lr.intercept_\n",
    "\n",
    "def compare_with_sklearn(beta, c, X, y, params):\n",
    "    beta_sk, c_sk = fit_sklearn(X, y, params)\n",
    "    print(f\"Norm of difference of your betas and sklearn: {np.linalg.norm(beta - beta_sk)}, abs diff {abs(c-c_sk)}\")\n",
    "    return beta_sk, c_sk"
   ]
  },
  {
   "cell_type": "code",
   "execution_count": 66,
   "metadata": {},
   "outputs": [
    {
     "name": "stdout",
     "output_type": "stream",
     "text": [
      "Norm of difference of your betas and sklearn: 117714903674719.03, abs diff 13.315315399127384\n"
     ]
    }
   ],
   "source": [
    "beta = np.zeros(X.shape[1])\n",
    "c = 0\n",
    "beta_sk, c_sk = compare_with_sklearn(beta, c, X, y, params_sk)"
   ]
  },
  {
   "cell_type": "code",
   "execution_count": 67,
   "metadata": {},
   "outputs": [],
   "source": [
    "import scipy\n",
    "lst = scipy.linalg.lstsq(X, y)"
   ]
  },
  {
   "cell_type": "code",
   "execution_count": 69,
   "metadata": {},
   "outputs": [
    {
     "data": {
      "text/plain": [
       "array([ 5.54363044e+00,  4.06064569e-01, -5.70194164e-01,  1.21504708e+01,\n",
       "       -3.25305690e+01, -2.20446785e+00,  9.45430401e+00, -1.02141443e+00,\n",
       "        4.21002490e+00, -1.09732435e+00,  2.34786231e+13,  8.16504506e+13,\n",
       "        2.21601166e+13,  3.19839734e+13,  1.11525567e+13,  4.05404609e+13,\n",
       "        3.10636232e+13,  5.41571112e+13,  7.89456015e+12,  7.89456015e+12,\n",
       "        2.80937583e+13,  7.98035563e+13,  2.88840919e+13,  2.73152792e+13,\n",
       "        2.84327502e+13,  2.93200060e+13,  2.49648641e+13,  2.60982588e+13,\n",
       "        2.33019896e+13])"
      ]
     },
     "execution_count": 69,
     "metadata": {},
     "output_type": "execute_result"
    }
   ],
   "source": [
    "lst[0] "
   ]
  },
  {
   "cell_type": "code",
   "execution_count": 70,
   "metadata": {},
   "outputs": [
    {
     "data": {
      "text/plain": [
       "array([ 5.55066883e+00,  3.94503565e-01, -5.66692681e-01,  1.22075099e+01,\n",
       "       -3.25191717e+01, -2.18776028e+00,  9.52886322e+00, -9.88097761e-01,\n",
       "        4.23230546e+00, -1.11223618e+00, -3.28436439e+12, -1.14218722e+13,\n",
       "       -3.09992190e+12, -4.47415604e+12, -1.56010257e+12, -5.67110115e+12,\n",
       "       -4.34541062e+12, -7.57589945e+12, -1.10434978e+12, -1.10434978e+12,\n",
       "       -3.92996382e+12, -1.11635149e+13,  4.68953452e+13,  4.43482680e+13,\n",
       "        4.61625604e+13,  4.76030824e+13,  4.05322046e+13,  4.23723502e+13,\n",
       "        3.78324114e+13])"
      ]
     },
     "execution_count": 70,
     "metadata": {},
     "output_type": "execute_result"
    }
   ],
   "source": [
    "beta_sk"
   ]
  },
  {
   "cell_type": "markdown",
   "metadata": {},
   "source": [
    "[paper](http://www3.dsi.uminho.pt/pcortez/fires.pdf)"
   ]
  }
 ],
 "metadata": {
  "kernelspec": {
   "display_name": "Python 3",
   "language": "python",
   "name": "python3"
  },
  "language_info": {
   "codemirror_mode": {
    "name": "ipython",
    "version": 3
   },
   "file_extension": ".py",
   "mimetype": "text/x-python",
   "name": "python",
   "nbconvert_exporter": "python",
   "pygments_lexer": "ipython3",
   "version": "3.7.3"
  },
  "pycharm": {
   "stem_cell": {
    "cell_type": "raw",
    "source": [],
    "metadata": {
     "collapsed": false
    }
   }
  }
 },
 "nbformat": 4,
 "nbformat_minor": 2
}